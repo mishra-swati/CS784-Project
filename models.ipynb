{
 "cells": [
  {
   "cell_type": "markdown",
   "metadata": {},
   "source": [
    "### Part 2: Processing Data and Testing Models\n",
    "Now that the transcripts have been generated using `data_generation.ipynb`, we can process the transcripts into features and labels to feed into different models."
   ]
  },
  {
   "cell_type": "code",
   "execution_count": 1,
   "metadata": {},
   "outputs": [],
   "source": [
    "import pandas as pd\n",
    "import seaborn as sns\n",
    "from sklearn.linear_model import LogisticRegression\n",
    "from sklearn.naive_bayes import MultinomialNB, GaussianNB\n",
    "from sklearn.model_selection import train_test_split"
   ]
  },
  {
   "cell_type": "code",
   "execution_count": 2,
   "metadata": {},
   "outputs": [
    {
     "data": {
      "text/html": [
       "<div>\n",
       "<style scoped>\n",
       "    .dataframe tbody tr th:only-of-type {\n",
       "        vertical-align: middle;\n",
       "    }\n",
       "\n",
       "    .dataframe tbody tr th {\n",
       "        vertical-align: top;\n",
       "    }\n",
       "\n",
       "    .dataframe thead th {\n",
       "        text-align: right;\n",
       "    }\n",
       "</style>\n",
       "<table border=\"1\" class=\"dataframe\">\n",
       "  <thead>\n",
       "    <tr style=\"text-align: right;\">\n",
       "      <th></th>\n",
       "      <th>PROGRAMMING I</th>\n",
       "      <th>INTRODUCTION TO COMPUTATION</th>\n",
       "      <th>DATA PROGRAMMING I</th>\n",
       "      <th>INTRODUCTION TO DISCRETE MATHEMATICS</th>\n",
       "      <th>DIGITAL SOCIETY: THE IMPACT OF COMPUTERS AND COMPUTER TECHNOLOGY</th>\n",
       "      <th>INTRODUCTION TO COMPUTER ENGINEERING</th>\n",
       "      <th>FUNDAMENTALS OF HUMAN-COMPUTER INTERACTION</th>\n",
       "      <th>DIRECTED STUDY IN COMPUTER SCIENCE</th>\n",
       "      <th>PROGRAMMING II</th>\n",
       "      <th>WES-CS GROUP MEETING</th>\n",
       "      <th>...</th>\n",
       "      <th>TOPICS IN COMPUTING</th>\n",
       "      <th>CORE TOPICS IN COMPUTING</th>\n",
       "      <th>COMPUTATIONAL COGNITIVE SCIENCE</th>\n",
       "      <th>THEORETICAL FOUNDATIONS OF MACHINE LEARNING</th>\n",
       "      <th>TOPICS IN THEORETICAL COMPUTER SCIENCE</th>\n",
       "      <th>PRE-DISSERTATOR RESEARCH</th>\n",
       "      <th>ADVANCED SEMINAR IN COMPUTER SCIENCE</th>\n",
       "      <th>COMPUTATION AND INFORMATICS IN BIOLOGY AND MEDICINE</th>\n",
       "      <th>DISSERTATION</th>\n",
       "      <th>DISSERTATOR RESEARCH</th>\n",
       "    </tr>\n",
       "  </thead>\n",
       "  <tbody>\n",
       "    <tr>\n",
       "      <th>0</th>\n",
       "      <td>NaN</td>\n",
       "      <td>NaN</td>\n",
       "      <td>NaN</td>\n",
       "      <td>NaN</td>\n",
       "      <td>NaN</td>\n",
       "      <td>NaN</td>\n",
       "      <td>NaN</td>\n",
       "      <td>NaN</td>\n",
       "      <td>A</td>\n",
       "      <td>NaN</td>\n",
       "      <td>...</td>\n",
       "      <td>AB</td>\n",
       "      <td>NaN</td>\n",
       "      <td>NaN</td>\n",
       "      <td>NaN</td>\n",
       "      <td>NaN</td>\n",
       "      <td>NaN</td>\n",
       "      <td>NaN</td>\n",
       "      <td>NaN</td>\n",
       "      <td>NaN</td>\n",
       "      <td>NaN</td>\n",
       "    </tr>\n",
       "    <tr>\n",
       "      <th>1</th>\n",
       "      <td>NaN</td>\n",
       "      <td>NaN</td>\n",
       "      <td>NaN</td>\n",
       "      <td>NaN</td>\n",
       "      <td>NaN</td>\n",
       "      <td>NaN</td>\n",
       "      <td>NaN</td>\n",
       "      <td>NaN</td>\n",
       "      <td>NaN</td>\n",
       "      <td>NaN</td>\n",
       "      <td>...</td>\n",
       "      <td>NaN</td>\n",
       "      <td>NaN</td>\n",
       "      <td>NaN</td>\n",
       "      <td>NaN</td>\n",
       "      <td>NaN</td>\n",
       "      <td>NaN</td>\n",
       "      <td>NaN</td>\n",
       "      <td>NaN</td>\n",
       "      <td>NaN</td>\n",
       "      <td>NaN</td>\n",
       "    </tr>\n",
       "    <tr>\n",
       "      <th>2</th>\n",
       "      <td>NaN</td>\n",
       "      <td>NaN</td>\n",
       "      <td>NaN</td>\n",
       "      <td>NaN</td>\n",
       "      <td>NaN</td>\n",
       "      <td>NaN</td>\n",
       "      <td>NaN</td>\n",
       "      <td>NaN</td>\n",
       "      <td>NaN</td>\n",
       "      <td>NaN</td>\n",
       "      <td>...</td>\n",
       "      <td>NaN</td>\n",
       "      <td>NaN</td>\n",
       "      <td>NaN</td>\n",
       "      <td>NaN</td>\n",
       "      <td>NaN</td>\n",
       "      <td>NaN</td>\n",
       "      <td>A</td>\n",
       "      <td>NaN</td>\n",
       "      <td>NaN</td>\n",
       "      <td>NaN</td>\n",
       "    </tr>\n",
       "    <tr>\n",
       "      <th>3</th>\n",
       "      <td>NaN</td>\n",
       "      <td>NaN</td>\n",
       "      <td>NaN</td>\n",
       "      <td>NaN</td>\n",
       "      <td>NaN</td>\n",
       "      <td>NaN</td>\n",
       "      <td>NaN</td>\n",
       "      <td>NaN</td>\n",
       "      <td>NaN</td>\n",
       "      <td>NaN</td>\n",
       "      <td>...</td>\n",
       "      <td>NaN</td>\n",
       "      <td>NaN</td>\n",
       "      <td>NaN</td>\n",
       "      <td>NaN</td>\n",
       "      <td>NaN</td>\n",
       "      <td>NaN</td>\n",
       "      <td>A</td>\n",
       "      <td>NaN</td>\n",
       "      <td>NaN</td>\n",
       "      <td>NaN</td>\n",
       "    </tr>\n",
       "    <tr>\n",
       "      <th>4</th>\n",
       "      <td>NaN</td>\n",
       "      <td>NaN</td>\n",
       "      <td>NaN</td>\n",
       "      <td>NaN</td>\n",
       "      <td>NaN</td>\n",
       "      <td>NaN</td>\n",
       "      <td>NaN</td>\n",
       "      <td>NaN</td>\n",
       "      <td>NaN</td>\n",
       "      <td>NaN</td>\n",
       "      <td>...</td>\n",
       "      <td>A</td>\n",
       "      <td>NaN</td>\n",
       "      <td>NaN</td>\n",
       "      <td>NaN</td>\n",
       "      <td>NaN</td>\n",
       "      <td>NaN</td>\n",
       "      <td>A</td>\n",
       "      <td>NaN</td>\n",
       "      <td>NaN</td>\n",
       "      <td>NaN</td>\n",
       "    </tr>\n",
       "  </tbody>\n",
       "</table>\n",
       "<p>5 rows × 123 columns</p>\n",
       "</div>"
      ],
      "text/plain": [
       "  PROGRAMMING I INTRODUCTION TO COMPUTATION  DATA PROGRAMMING I  \\\n",
       "0           NaN                         NaN                 NaN   \n",
       "1           NaN                         NaN                 NaN   \n",
       "2           NaN                         NaN                 NaN   \n",
       "3           NaN                         NaN                 NaN   \n",
       "4           NaN                         NaN                 NaN   \n",
       "\n",
       "  INTRODUCTION TO DISCRETE MATHEMATICS  \\\n",
       "0                                  NaN   \n",
       "1                                  NaN   \n",
       "2                                  NaN   \n",
       "3                                  NaN   \n",
       "4                                  NaN   \n",
       "\n",
       "  DIGITAL SOCIETY: THE IMPACT OF COMPUTERS AND COMPUTER TECHNOLOGY  \\\n",
       "0                                                NaN                 \n",
       "1                                                NaN                 \n",
       "2                                                NaN                 \n",
       "3                                                NaN                 \n",
       "4                                                NaN                 \n",
       "\n",
       "  INTRODUCTION TO COMPUTER ENGINEERING  \\\n",
       "0                                  NaN   \n",
       "1                                  NaN   \n",
       "2                                  NaN   \n",
       "3                                  NaN   \n",
       "4                                  NaN   \n",
       "\n",
       "  FUNDAMENTALS OF HUMAN-COMPUTER INTERACTION  \\\n",
       "0                                        NaN   \n",
       "1                                        NaN   \n",
       "2                                        NaN   \n",
       "3                                        NaN   \n",
       "4                                        NaN   \n",
       "\n",
       "   DIRECTED STUDY IN COMPUTER SCIENCE PROGRAMMING II WES-CS GROUP MEETING  \\\n",
       "0                                 NaN              A                  NaN   \n",
       "1                                 NaN            NaN                  NaN   \n",
       "2                                 NaN            NaN                  NaN   \n",
       "3                                 NaN            NaN                  NaN   \n",
       "4                                 NaN            NaN                  NaN   \n",
       "\n",
       "   ... TOPICS IN COMPUTING  CORE TOPICS IN COMPUTING  \\\n",
       "0  ...                  AB                       NaN   \n",
       "1  ...                 NaN                       NaN   \n",
       "2  ...                 NaN                       NaN   \n",
       "3  ...                 NaN                       NaN   \n",
       "4  ...                   A                       NaN   \n",
       "\n",
       "  COMPUTATIONAL COGNITIVE SCIENCE THEORETICAL FOUNDATIONS OF MACHINE LEARNING  \\\n",
       "0                             NaN                                         NaN   \n",
       "1                             NaN                                         NaN   \n",
       "2                             NaN                                         NaN   \n",
       "3                             NaN                                         NaN   \n",
       "4                             NaN                                         NaN   \n",
       "\n",
       "   TOPICS IN THEORETICAL COMPUTER SCIENCE PRE-DISSERTATOR RESEARCH  \\\n",
       "0                                     NaN                      NaN   \n",
       "1                                     NaN                      NaN   \n",
       "2                                     NaN                      NaN   \n",
       "3                                     NaN                      NaN   \n",
       "4                                     NaN                      NaN   \n",
       "\n",
       "  ADVANCED SEMINAR IN COMPUTER SCIENCE  \\\n",
       "0                                  NaN   \n",
       "1                                  NaN   \n",
       "2                                    A   \n",
       "3                                    A   \n",
       "4                                    A   \n",
       "\n",
       "   COMPUTATION AND INFORMATICS IN BIOLOGY AND MEDICINE DISSERTATION  \\\n",
       "0                                                NaN            NaN   \n",
       "1                                                NaN            NaN   \n",
       "2                                                NaN            NaN   \n",
       "3                                                NaN            NaN   \n",
       "4                                                NaN            NaN   \n",
       "\n",
       "  DISSERTATOR RESEARCH  \n",
       "0                  NaN  \n",
       "1                  NaN  \n",
       "2                  NaN  \n",
       "3                  NaN  \n",
       "4                  NaN  \n",
       "\n",
       "[5 rows x 123 columns]"
      ]
     },
     "execution_count": 2,
     "metadata": {},
     "output_type": "execute_result"
    }
   ],
   "source": [
    "transcripts = pd.read_csv('transcripts.csv', index_col=0)\n",
    "transcripts.head()"
   ]
  },
  {
   "cell_type": "markdown",
   "metadata": {},
   "source": [
    "Some helpful dictionaries to help us in converting data representations:"
   ]
  },
  {
   "cell_type": "code",
   "execution_count": 3,
   "metadata": {},
   "outputs": [],
   "source": [
    "grade_to_label_dict = {'A': 1, 'AB': 2, 'B': 3, 'BC': 4, 'C': 5, 'D': 6, 'F': 7}\n",
    "label_to_grade_dict = {value: key for key, value in grade_to_label_dict.items()}"
   ]
  },
  {
   "cell_type": "code",
   "execution_count": 4,
   "metadata": {},
   "outputs": [],
   "source": [
    "course_to_index_dict = {column: i for i, column in enumerate(transcripts.columns)}\n",
    "index_to_course_dict = {i: column for i, column in enumerate(transcripts.columns)}"
   ]
  },
  {
   "cell_type": "markdown",
   "metadata": {},
   "source": [
    "### Approach 1"
   ]
  },
  {
   "cell_type": "markdown",
   "metadata": {},
   "source": [
    "Take everything but one course from the transcripts as the features, and put that course as the label:"
   ]
  },
  {
   "cell_type": "code",
   "execution_count": 5,
   "metadata": {},
   "outputs": [],
   "source": [
    "x = transcripts.drop(['PROGRAMMING I'], axis=1)\n",
    "y = transcripts['PROGRAMMING I']"
   ]
  },
  {
   "cell_type": "markdown",
   "metadata": {},
   "source": [
    "Let's check the number of columns for x:"
   ]
  },
  {
   "cell_type": "code",
   "execution_count": 6,
   "metadata": {},
   "outputs": [
    {
     "name": "stdout",
     "output_type": "stream",
     "text": [
      "<class 'pandas.core.frame.DataFrame'>\n",
      "Int64Index: 50000 entries, 0 to 49999\n",
      "Columns: 542 entries, DATA PROGRAMMING I to COMPUTATION AND INFORMATICS IN BIOLOGY AND MEDICINE_AB\n",
      "dtypes: float64(29), uint8(513)\n",
      "memory usage: 35.9 MB\n"
     ]
    }
   ],
   "source": [
    "pd.get_dummies(x).info()"
   ]
  },
  {
   "cell_type": "markdown",
   "metadata": {},
   "source": [
    "Let's say that rows 51 through 150 have to be used for testing. The number of columns are:"
   ]
  },
  {
   "cell_type": "code",
   "execution_count": 7,
   "metadata": {},
   "outputs": [
    {
     "name": "stdout",
     "output_type": "stream",
     "text": [
      "<class 'pandas.core.frame.DataFrame'>\n",
      "Int64Index: 100 entries, 51 to 150\n",
      "Columns: 319 entries, DATA PROGRAMMING I to COMPUTATION AND INFORMATICS IN BIOLOGY AND MEDICINE_AB\n",
      "dtypes: float64(29), uint8(290)\n",
      "memory usage: 51.8 KB\n"
     ]
    }
   ],
   "source": [
    "pd.get_dummies(transcripts.loc[51:150].drop(['PROGRAMMING I'], axis=1)).info()"
   ]
  },
  {
   "cell_type": "markdown",
   "metadata": {},
   "source": [
    "Since the number of columns change every time we cahnge a course or change the rows that are used to train or test the data, we cannot use this approach."
   ]
  },
  {
   "cell_type": "markdown",
   "metadata": {},
   "source": [
    "### Approach 2"
   ]
  },
  {
   "cell_type": "markdown",
   "metadata": {},
   "source": [
    "We can preprocess the rows by dropping all courses that a student hasn't taken and converting the courses and grades to integer values:"
   ]
  },
  {
   "cell_type": "code",
   "execution_count": 8,
   "metadata": {},
   "outputs": [],
   "source": [
    "def preprocess_data(row):\n",
    "    row = row.dropna()\n",
    "    items = []\n",
    "    items.extend([course_to_index_dict[index] for index in row.index])\n",
    "    items.extend([grade_to_label_dict[value] for value in row.values])\n",
    "    return pd.Series(items)\n",
    "\n",
    "transcripts_preprocessed = transcripts.apply(preprocess_data, axis=1)"
   ]
  },
  {
   "cell_type": "markdown",
   "metadata": {},
   "source": [
    "Utility function to get the features for each course:"
   ]
  },
  {
   "cell_type": "code",
   "execution_count": 9,
   "metadata": {},
   "outputs": [],
   "source": [
    "def get_subject_processed(row, subject):\n",
    "    num_subjects = int(len(row) / 2)\n",
    "    if subject in row[0:num_subjects].values:\n",
    "        row = row.append(pd.Series(subject), ignore_index=True)\n",
    "        index = row[row == subject].index[0]\n",
    "        row = row.drop([index, index+num_subjects])\n",
    "        return row.reset_index(drop=True)\n",
    "    else:\n",
    "        return None\n",
    "\n",
    "def get_features_for_course(course, head=False):\n",
    "    if head:\n",
    "        df = transcripts_preprocessed.head().apply(get_subject_processed, args=(course,), axis=1) \\\n",
    "            .dropna().reset_index(drop=True)\n",
    "    else:\n",
    "        df = transcripts_preprocessed.apply(get_subject_processed, args=(course,), axis=1) \\\n",
    "            .dropna().reset_index(drop=True)\n",
    "    if type(df) == pd.Series:\n",
    "        return pd.DataFrame.from_dict(dict(df), orient='index')\n",
    "    return df"
   ]
  },
  {
   "cell_type": "code",
   "execution_count": 10,
   "metadata": {},
   "outputs": [
    {
     "data": {
      "text/html": [
       "<div>\n",
       "<style scoped>\n",
       "    .dataframe tbody tr th:only-of-type {\n",
       "        vertical-align: middle;\n",
       "    }\n",
       "\n",
       "    .dataframe tbody tr th {\n",
       "        vertical-align: top;\n",
       "    }\n",
       "\n",
       "    .dataframe thead th {\n",
       "        text-align: right;\n",
       "    }\n",
       "</style>\n",
       "<table border=\"1\" class=\"dataframe\">\n",
       "  <thead>\n",
       "    <tr style=\"text-align: right;\">\n",
       "      <th></th>\n",
       "      <th>0</th>\n",
       "      <th>1</th>\n",
       "      <th>2</th>\n",
       "      <th>3</th>\n",
       "      <th>4</th>\n",
       "      <th>5</th>\n",
       "      <th>6</th>\n",
       "      <th>7</th>\n",
       "      <th>8</th>\n",
       "      <th>9</th>\n",
       "      <th>10</th>\n",
       "      <th>11</th>\n",
       "      <th>12</th>\n",
       "      <th>13</th>\n",
       "      <th>14</th>\n",
       "    </tr>\n",
       "  </thead>\n",
       "  <tbody>\n",
       "    <tr>\n",
       "      <th>0</th>\n",
       "      <td>36.0</td>\n",
       "      <td>46.0</td>\n",
       "      <td>52.0</td>\n",
       "      <td>64.0</td>\n",
       "      <td>103.0</td>\n",
       "      <td>107.0</td>\n",
       "      <td>113.0</td>\n",
       "      <td>5.0</td>\n",
       "      <td>1.0</td>\n",
       "      <td>5.0</td>\n",
       "      <td>1.0</td>\n",
       "      <td>2.0</td>\n",
       "      <td>1.0</td>\n",
       "      <td>2.0</td>\n",
       "      <td>8.0</td>\n",
       "    </tr>\n",
       "  </tbody>\n",
       "</table>\n",
       "</div>"
      ],
      "text/plain": [
       "     0     1     2     3      4      5      6    7    8    9    10   11   12  \\\n",
       "0  36.0  46.0  52.0  64.0  103.0  107.0  113.0  5.0  1.0  5.0  1.0  2.0  1.0   \n",
       "\n",
       "    13   14  \n",
       "0  2.0  8.0  "
      ]
     },
     "execution_count": 10,
     "metadata": {},
     "output_type": "execute_result"
    }
   ],
   "source": [
    "get_features_for_course(8, head=True)"
   ]
  },
  {
   "cell_type": "markdown",
   "metadata": {},
   "source": [
    "Utility function to get the label for each course:"
   ]
  },
  {
   "cell_type": "code",
   "execution_count": 11,
   "metadata": {},
   "outputs": [],
   "source": [
    "def get_labels_processed(row, subject):\n",
    "    num_subjects = int(len(row) / 2)\n",
    "    if subject in row[0:num_subjects].values:\n",
    "        index = row[row == subject].index[0]\n",
    "        return row[index+num_subjects]\n",
    "    else:\n",
    "        return None\n",
    "\n",
    "def get_labels_for_course(course, head=False):\n",
    "    if head:\n",
    "            return transcripts_preprocessed.head().apply(get_labels_processed, args=(course,), axis=1).dropna().reset_index(drop=True)\n",
    "    return transcripts_preprocessed.apply(get_labels_processed, args=(course,), axis=1).dropna().reset_index(drop=True)"
   ]
  },
  {
   "cell_type": "code",
   "execution_count": 12,
   "metadata": {},
   "outputs": [
    {
     "data": {
      "text/plain": [
       "0    1.0\n",
       "dtype: float64"
      ]
     },
     "execution_count": 12,
     "metadata": {},
     "output_type": "execute_result"
    }
   ],
   "source": [
    "get_labels_for_course(8, head=True)"
   ]
  },
  {
   "cell_type": "markdown",
   "metadata": {},
   "source": [
    "Utility function to train and test a model with approach 2:"
   ]
  },
  {
   "cell_type": "code",
   "execution_count": 13,
   "metadata": {
    "scrolled": true
   },
   "outputs": [],
   "source": [
    "def train_model(model):\n",
    "    x_tests = []\n",
    "    y_tests = []\n",
    "    for i in range(len(course_to_index_dict)):\n",
    "        x = get_features_for_course(i)\n",
    "        y = get_labels_for_course(i)\n",
    "        x_train, x_test, y_train, y_test = train_test_split(x, y)\n",
    "        if len(x) > 0 and len(y_train.unique()) > 1:\n",
    "            model.fit(x_train, y_train)\n",
    "            x_tests.append(x_test)\n",
    "            y_tests.append(y_test)\n",
    "    \n",
    "    x_tests = pd.concat(x_tests).reset_index(drop=True)\n",
    "    y_tests = pd.concat(y_tests).reset_index(drop=True)\n",
    "    accuracy = model.score(x_tests, y_tests)\n",
    "    \n",
    "    return (model, accuracy)"
   ]
  },
  {
   "cell_type": "markdown",
   "metadata": {},
   "source": [
    "#### Logistic Regression Model"
   ]
  },
  {
   "cell_type": "code",
   "execution_count": 14,
   "metadata": {},
   "outputs": [
    {
     "name": "stdout",
     "output_type": "stream",
     "text": [
      "0.44180607471863065\n"
     ]
    }
   ],
   "source": [
    "model = LogisticRegression(random_state=0, solver='sag', multi_class='multinomial', max_iter=10_000)\n",
    "model, accuracy = train_model(model)\n",
    "print(accuracy)"
   ]
  },
  {
   "cell_type": "markdown",
   "metadata": {},
   "source": [
    "#### Naive Bayes Model"
   ]
  },
  {
   "cell_type": "code",
   "execution_count": 15,
   "metadata": {},
   "outputs": [
    {
     "name": "stdout",
     "output_type": "stream",
     "text": [
      "0.5278101190840943\n"
     ]
    }
   ],
   "source": [
    "model = GaussianNB()\n",
    "model, accuracy = train_model(model)\n",
    "print(accuracy)"
   ]
  },
  {
   "cell_type": "markdown",
   "metadata": {},
   "source": [
    "### Approach 3"
   ]
  },
  {
   "cell_type": "markdown",
   "metadata": {},
   "source": [
    "Here we just replace all missing values with zeros and replace all grades with their integer representations:"
   ]
  },
  {
   "cell_type": "code",
   "execution_count": 16,
   "metadata": {},
   "outputs": [],
   "source": [
    "transcripts_preprocessed = transcripts.fillna(0).replace(grade_to_label_dict).astype(int)"
   ]
  },
  {
   "cell_type": "code",
   "execution_count": 17,
   "metadata": {},
   "outputs": [
    {
     "data": {
      "text/html": [
       "<div>\n",
       "<style scoped>\n",
       "    .dataframe tbody tr th:only-of-type {\n",
       "        vertical-align: middle;\n",
       "    }\n",
       "\n",
       "    .dataframe tbody tr th {\n",
       "        vertical-align: top;\n",
       "    }\n",
       "\n",
       "    .dataframe thead th {\n",
       "        text-align: right;\n",
       "    }\n",
       "</style>\n",
       "<table border=\"1\" class=\"dataframe\">\n",
       "  <thead>\n",
       "    <tr style=\"text-align: right;\">\n",
       "      <th></th>\n",
       "      <th>PROGRAMMING I</th>\n",
       "      <th>INTRODUCTION TO COMPUTATION</th>\n",
       "      <th>DATA PROGRAMMING I</th>\n",
       "      <th>INTRODUCTION TO DISCRETE MATHEMATICS</th>\n",
       "      <th>DIGITAL SOCIETY: THE IMPACT OF COMPUTERS AND COMPUTER TECHNOLOGY</th>\n",
       "      <th>INTRODUCTION TO COMPUTER ENGINEERING</th>\n",
       "      <th>FUNDAMENTALS OF HUMAN-COMPUTER INTERACTION</th>\n",
       "      <th>DIRECTED STUDY IN COMPUTER SCIENCE</th>\n",
       "      <th>PROGRAMMING II</th>\n",
       "      <th>WES-CS GROUP MEETING</th>\n",
       "      <th>...</th>\n",
       "      <th>TOPICS IN COMPUTING</th>\n",
       "      <th>CORE TOPICS IN COMPUTING</th>\n",
       "      <th>COMPUTATIONAL COGNITIVE SCIENCE</th>\n",
       "      <th>THEORETICAL FOUNDATIONS OF MACHINE LEARNING</th>\n",
       "      <th>TOPICS IN THEORETICAL COMPUTER SCIENCE</th>\n",
       "      <th>PRE-DISSERTATOR RESEARCH</th>\n",
       "      <th>ADVANCED SEMINAR IN COMPUTER SCIENCE</th>\n",
       "      <th>COMPUTATION AND INFORMATICS IN BIOLOGY AND MEDICINE</th>\n",
       "      <th>DISSERTATION</th>\n",
       "      <th>DISSERTATOR RESEARCH</th>\n",
       "    </tr>\n",
       "  </thead>\n",
       "  <tbody>\n",
       "    <tr>\n",
       "      <th>0</th>\n",
       "      <td>0</td>\n",
       "      <td>0</td>\n",
       "      <td>0</td>\n",
       "      <td>0</td>\n",
       "      <td>0</td>\n",
       "      <td>0</td>\n",
       "      <td>0</td>\n",
       "      <td>0</td>\n",
       "      <td>1</td>\n",
       "      <td>0</td>\n",
       "      <td>...</td>\n",
       "      <td>2</td>\n",
       "      <td>0</td>\n",
       "      <td>0</td>\n",
       "      <td>0</td>\n",
       "      <td>0</td>\n",
       "      <td>0</td>\n",
       "      <td>0</td>\n",
       "      <td>0</td>\n",
       "      <td>0</td>\n",
       "      <td>0</td>\n",
       "    </tr>\n",
       "    <tr>\n",
       "      <th>1</th>\n",
       "      <td>0</td>\n",
       "      <td>0</td>\n",
       "      <td>0</td>\n",
       "      <td>0</td>\n",
       "      <td>0</td>\n",
       "      <td>0</td>\n",
       "      <td>0</td>\n",
       "      <td>0</td>\n",
       "      <td>0</td>\n",
       "      <td>0</td>\n",
       "      <td>...</td>\n",
       "      <td>0</td>\n",
       "      <td>0</td>\n",
       "      <td>0</td>\n",
       "      <td>0</td>\n",
       "      <td>0</td>\n",
       "      <td>0</td>\n",
       "      <td>0</td>\n",
       "      <td>0</td>\n",
       "      <td>0</td>\n",
       "      <td>0</td>\n",
       "    </tr>\n",
       "    <tr>\n",
       "      <th>2</th>\n",
       "      <td>0</td>\n",
       "      <td>0</td>\n",
       "      <td>0</td>\n",
       "      <td>0</td>\n",
       "      <td>0</td>\n",
       "      <td>0</td>\n",
       "      <td>0</td>\n",
       "      <td>0</td>\n",
       "      <td>0</td>\n",
       "      <td>0</td>\n",
       "      <td>...</td>\n",
       "      <td>0</td>\n",
       "      <td>0</td>\n",
       "      <td>0</td>\n",
       "      <td>0</td>\n",
       "      <td>0</td>\n",
       "      <td>0</td>\n",
       "      <td>1</td>\n",
       "      <td>0</td>\n",
       "      <td>0</td>\n",
       "      <td>0</td>\n",
       "    </tr>\n",
       "    <tr>\n",
       "      <th>3</th>\n",
       "      <td>0</td>\n",
       "      <td>0</td>\n",
       "      <td>0</td>\n",
       "      <td>0</td>\n",
       "      <td>0</td>\n",
       "      <td>0</td>\n",
       "      <td>0</td>\n",
       "      <td>0</td>\n",
       "      <td>0</td>\n",
       "      <td>0</td>\n",
       "      <td>...</td>\n",
       "      <td>0</td>\n",
       "      <td>0</td>\n",
       "      <td>0</td>\n",
       "      <td>0</td>\n",
       "      <td>0</td>\n",
       "      <td>0</td>\n",
       "      <td>1</td>\n",
       "      <td>0</td>\n",
       "      <td>0</td>\n",
       "      <td>0</td>\n",
       "    </tr>\n",
       "    <tr>\n",
       "      <th>4</th>\n",
       "      <td>0</td>\n",
       "      <td>0</td>\n",
       "      <td>0</td>\n",
       "      <td>0</td>\n",
       "      <td>0</td>\n",
       "      <td>0</td>\n",
       "      <td>0</td>\n",
       "      <td>0</td>\n",
       "      <td>0</td>\n",
       "      <td>0</td>\n",
       "      <td>...</td>\n",
       "      <td>1</td>\n",
       "      <td>0</td>\n",
       "      <td>0</td>\n",
       "      <td>0</td>\n",
       "      <td>0</td>\n",
       "      <td>0</td>\n",
       "      <td>1</td>\n",
       "      <td>0</td>\n",
       "      <td>0</td>\n",
       "      <td>0</td>\n",
       "    </tr>\n",
       "  </tbody>\n",
       "</table>\n",
       "<p>5 rows × 123 columns</p>\n",
       "</div>"
      ],
      "text/plain": [
       "   PROGRAMMING I  INTRODUCTION TO COMPUTATION  DATA PROGRAMMING I  \\\n",
       "0              0                            0                   0   \n",
       "1              0                            0                   0   \n",
       "2              0                            0                   0   \n",
       "3              0                            0                   0   \n",
       "4              0                            0                   0   \n",
       "\n",
       "   INTRODUCTION TO DISCRETE MATHEMATICS  \\\n",
       "0                                     0   \n",
       "1                                     0   \n",
       "2                                     0   \n",
       "3                                     0   \n",
       "4                                     0   \n",
       "\n",
       "   DIGITAL SOCIETY: THE IMPACT OF COMPUTERS AND COMPUTER TECHNOLOGY  \\\n",
       "0                                                  0                  \n",
       "1                                                  0                  \n",
       "2                                                  0                  \n",
       "3                                                  0                  \n",
       "4                                                  0                  \n",
       "\n",
       "   INTRODUCTION TO COMPUTER ENGINEERING  \\\n",
       "0                                     0   \n",
       "1                                     0   \n",
       "2                                     0   \n",
       "3                                     0   \n",
       "4                                     0   \n",
       "\n",
       "   FUNDAMENTALS OF HUMAN-COMPUTER INTERACTION  \\\n",
       "0                                           0   \n",
       "1                                           0   \n",
       "2                                           0   \n",
       "3                                           0   \n",
       "4                                           0   \n",
       "\n",
       "   DIRECTED STUDY IN COMPUTER SCIENCE  PROGRAMMING II  WES-CS GROUP MEETING  \\\n",
       "0                                   0               1                     0   \n",
       "1                                   0               0                     0   \n",
       "2                                   0               0                     0   \n",
       "3                                   0               0                     0   \n",
       "4                                   0               0                     0   \n",
       "\n",
       "   ...  TOPICS IN COMPUTING  CORE TOPICS IN COMPUTING  \\\n",
       "0  ...                    2                         0   \n",
       "1  ...                    0                         0   \n",
       "2  ...                    0                         0   \n",
       "3  ...                    0                         0   \n",
       "4  ...                    1                         0   \n",
       "\n",
       "   COMPUTATIONAL COGNITIVE SCIENCE  \\\n",
       "0                                0   \n",
       "1                                0   \n",
       "2                                0   \n",
       "3                                0   \n",
       "4                                0   \n",
       "\n",
       "   THEORETICAL FOUNDATIONS OF MACHINE LEARNING  \\\n",
       "0                                            0   \n",
       "1                                            0   \n",
       "2                                            0   \n",
       "3                                            0   \n",
       "4                                            0   \n",
       "\n",
       "   TOPICS IN THEORETICAL COMPUTER SCIENCE  PRE-DISSERTATOR RESEARCH  \\\n",
       "0                                       0                         0   \n",
       "1                                       0                         0   \n",
       "2                                       0                         0   \n",
       "3                                       0                         0   \n",
       "4                                       0                         0   \n",
       "\n",
       "   ADVANCED SEMINAR IN COMPUTER SCIENCE  \\\n",
       "0                                     0   \n",
       "1                                     0   \n",
       "2                                     1   \n",
       "3                                     1   \n",
       "4                                     1   \n",
       "\n",
       "   COMPUTATION AND INFORMATICS IN BIOLOGY AND MEDICINE  DISSERTATION  \\\n",
       "0                                                  0               0   \n",
       "1                                                  0               0   \n",
       "2                                                  0               0   \n",
       "3                                                  0               0   \n",
       "4                                                  0               0   \n",
       "\n",
       "   DISSERTATOR RESEARCH  \n",
       "0                     0  \n",
       "1                     0  \n",
       "2                     0  \n",
       "3                     0  \n",
       "4                     0  \n",
       "\n",
       "[5 rows x 123 columns]"
      ]
     },
     "execution_count": 17,
     "metadata": {},
     "output_type": "execute_result"
    }
   ],
   "source": [
    "transcripts_preprocessed.head()"
   ]
  },
  {
   "cell_type": "markdown",
   "metadata": {},
   "source": [
    "Then we create copies of rows, one copy for each grade that exists in the row, and iteratively replace a grade with -1 and store the row as a feature and the grade as a label:"
   ]
  },
  {
   "cell_type": "code",
   "execution_count": 18,
   "metadata": {},
   "outputs": [],
   "source": [
    "x = []\n",
    "y = []\n",
    "for index, grades in transcripts_preprocessed.iterrows():\n",
    "    grade_indices = grades[grades != 0].index\n",
    "    for course in grade_indices:\n",
    "        new_grades = grades.copy()\n",
    "        new_grades[course] = -1\n",
    "        x.append(new_grades)\n",
    "        y.append(grades[course])"
   ]
  },
  {
   "cell_type": "markdown",
   "metadata": {},
   "source": [
    "Creating training and testing sets for approach 3:"
   ]
  },
  {
   "cell_type": "code",
   "execution_count": 19,
   "metadata": {},
   "outputs": [],
   "source": [
    "x_train, x_test, y_train, y_test = train_test_split(x, y)"
   ]
  },
  {
   "cell_type": "markdown",
   "metadata": {},
   "source": [
    "#### Logistic Regression Model"
   ]
  },
  {
   "cell_type": "code",
   "execution_count": 20,
   "metadata": {},
   "outputs": [
    {
     "data": {
      "text/plain": [
       "0.5363833333333333"
      ]
     },
     "execution_count": 20,
     "metadata": {},
     "output_type": "execute_result"
    }
   ],
   "source": [
    "model = LogisticRegression(solver='sag', multi_class='multinomial', max_iter=10_000)\n",
    "model.fit(x_train, y_train)\n",
    "model.score(x_train, y_train)"
   ]
  },
  {
   "cell_type": "markdown",
   "metadata": {},
   "source": [
    "#### Naive Bayes Model"
   ]
  },
  {
   "cell_type": "code",
   "execution_count": 21,
   "metadata": {},
   "outputs": [
    {
     "data": {
      "text/plain": [
       "0.4199"
      ]
     },
     "execution_count": 21,
     "metadata": {},
     "output_type": "execute_result"
    }
   ],
   "source": [
    "model = GaussianNB()\n",
    "model.fit(x_train, y_train)\n",
    "model.score(x_test, y_test)"
   ]
  }
 ],
 "metadata": {
  "kernelspec": {
   "display_name": "Python 3",
   "language": "python",
   "name": "python3"
  },
  "language_info": {
   "codemirror_mode": {
    "name": "ipython",
    "version": 3
   },
   "file_extension": ".py",
   "mimetype": "text/x-python",
   "name": "python",
   "nbconvert_exporter": "python",
   "pygments_lexer": "ipython3",
   "version": "3.6.5"
  }
 },
 "nbformat": 4,
 "nbformat_minor": 2
}
