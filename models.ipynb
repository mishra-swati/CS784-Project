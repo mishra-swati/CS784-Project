{
 "cells": [
  {
   "cell_type": "markdown",
   "metadata": {},
   "source": [
    "### Part 2: Processing Data and Testing Models\n",
    "Now that the transcripts have been generated using `data_generation.ipynb`, we can process the transcripts into features and labels to feed into different models."
   ]
  },
  {
   "cell_type": "code",
   "execution_count": 62,
   "metadata": {},
   "outputs": [],
   "source": [
    "import pandas as pd\n",
    "import seaborn as sns\n",
    "from sklearn.linear_model import LogisticRegression\n",
    "from sklearn.naive_bayes import MultinomialNB, GaussianNB\n",
    "from sklearn.model_selection import train_test_split\n",
    "import math"
   ]
  },
  {
   "cell_type": "code",
   "execution_count": 63,
   "metadata": {},
   "outputs": [
    {
     "name": "stderr",
     "output_type": "stream",
     "text": [
      "c:\\programming\\python\\python36\\lib\\site-packages\\IPython\\core\\interactiveshell.py:3020: DtypeWarning: Columns (52) have mixed types. Specify dtype option on import or set low_memory=False.\n",
      "  interactivity=interactivity, compiler=compiler, result=result)\n"
     ]
    },
    {
     "data": {
      "text/html": [
       "<div>\n",
       "<style scoped>\n",
       "    .dataframe tbody tr th:only-of-type {\n",
       "        vertical-align: middle;\n",
       "    }\n",
       "\n",
       "    .dataframe tbody tr th {\n",
       "        vertical-align: top;\n",
       "    }\n",
       "\n",
       "    .dataframe thead th {\n",
       "        text-align: right;\n",
       "    }\n",
       "</style>\n",
       "<table border=\"1\" class=\"dataframe\">\n",
       "  <thead>\n",
       "    <tr style=\"text-align: right;\">\n",
       "      <th></th>\n",
       "      <th>DIRECTED STUDY</th>\n",
       "      <th>INTRODUCTION TO COMPUTER ENGINEERING</th>\n",
       "      <th>INTRODUCTION TO DISCRETE MATHEMATICS</th>\n",
       "      <th>MACHINE ORGANIZATION AND PROGRAMMING</th>\n",
       "      <th>DIGITAL SYSTEM FUNDAMENTALS</th>\n",
       "      <th>INTRODUCTION TO ARTIFICIAL INTELLIGENCE</th>\n",
       "      <th>PROBLEM SOLVING USING COMPUTERS</th>\n",
       "      <th>INTRODUCTION TO OPERATING SYSTEMS</th>\n",
       "      <th>INTRODUCTION TO ALGORITHMS</th>\n",
       "      <th>DATABASE MANAGEMENT SYSTEMS: DESIGN AND IMPLEMENTATION</th>\n",
       "      <th>...</th>\n",
       "      <th>MEDICAL IMAGE ANALYSIS</th>\n",
       "      <th>VIRTUAL REALITY</th>\n",
       "      <th>COMPUTER ANIMATION</th>\n",
       "      <th>INTRODUCTION TO COMPUTATIONAL GEOMETRY</th>\n",
       "      <th>FUNDAMENTALS OF HUMAN-COMPUTER INTERACTION</th>\n",
       "      <th>COMPUTATIONAL METHODS FOR MEDICAL IMAGE ANALYSIS</th>\n",
       "      <th>CONTEST-LEVEL PROGRAMMING</th>\n",
       "      <th>USER EXPERIENCE DESIGN 1</th>\n",
       "      <th>ADVANCED LINEAR PROGRAMMING</th>\n",
       "      <th>SENIOR THESIS</th>\n",
       "    </tr>\n",
       "  </thead>\n",
       "  <tbody>\n",
       "    <tr>\n",
       "      <th>0</th>\n",
       "      <td>A</td>\n",
       "      <td>B</td>\n",
       "      <td>BC</td>\n",
       "      <td>NaN</td>\n",
       "      <td>NaN</td>\n",
       "      <td>NaN</td>\n",
       "      <td>NaN</td>\n",
       "      <td>NaN</td>\n",
       "      <td>NaN</td>\n",
       "      <td>B</td>\n",
       "      <td>...</td>\n",
       "      <td>NaN</td>\n",
       "      <td>NaN</td>\n",
       "      <td>NaN</td>\n",
       "      <td>NaN</td>\n",
       "      <td>NaN</td>\n",
       "      <td>NaN</td>\n",
       "      <td>NaN</td>\n",
       "      <td>NaN</td>\n",
       "      <td>NaN</td>\n",
       "      <td>NaN</td>\n",
       "    </tr>\n",
       "    <tr>\n",
       "      <th>1</th>\n",
       "      <td>NaN</td>\n",
       "      <td>NaN</td>\n",
       "      <td>B</td>\n",
       "      <td>NaN</td>\n",
       "      <td>BC</td>\n",
       "      <td>NaN</td>\n",
       "      <td>NaN</td>\n",
       "      <td>NaN</td>\n",
       "      <td>NaN</td>\n",
       "      <td>NaN</td>\n",
       "      <td>...</td>\n",
       "      <td>NaN</td>\n",
       "      <td>NaN</td>\n",
       "      <td>NaN</td>\n",
       "      <td>NaN</td>\n",
       "      <td>NaN</td>\n",
       "      <td>A</td>\n",
       "      <td>NaN</td>\n",
       "      <td>NaN</td>\n",
       "      <td>NaN</td>\n",
       "      <td>NaN</td>\n",
       "    </tr>\n",
       "    <tr>\n",
       "      <th>2</th>\n",
       "      <td>NaN</td>\n",
       "      <td>NaN</td>\n",
       "      <td>NaN</td>\n",
       "      <td>NaN</td>\n",
       "      <td>A</td>\n",
       "      <td>NaN</td>\n",
       "      <td>NaN</td>\n",
       "      <td>NaN</td>\n",
       "      <td>NaN</td>\n",
       "      <td>NaN</td>\n",
       "      <td>...</td>\n",
       "      <td>B</td>\n",
       "      <td>NaN</td>\n",
       "      <td>NaN</td>\n",
       "      <td>NaN</td>\n",
       "      <td>NaN</td>\n",
       "      <td>NaN</td>\n",
       "      <td>NaN</td>\n",
       "      <td>NaN</td>\n",
       "      <td>NaN</td>\n",
       "      <td>NaN</td>\n",
       "    </tr>\n",
       "    <tr>\n",
       "      <th>3</th>\n",
       "      <td>NaN</td>\n",
       "      <td>NaN</td>\n",
       "      <td>NaN</td>\n",
       "      <td>NaN</td>\n",
       "      <td>B</td>\n",
       "      <td>NaN</td>\n",
       "      <td>NaN</td>\n",
       "      <td>NaN</td>\n",
       "      <td>NaN</td>\n",
       "      <td>NaN</td>\n",
       "      <td>...</td>\n",
       "      <td>NaN</td>\n",
       "      <td>NaN</td>\n",
       "      <td>NaN</td>\n",
       "      <td>NaN</td>\n",
       "      <td>NaN</td>\n",
       "      <td>NaN</td>\n",
       "      <td>NaN</td>\n",
       "      <td>NaN</td>\n",
       "      <td>NaN</td>\n",
       "      <td>NaN</td>\n",
       "    </tr>\n",
       "    <tr>\n",
       "      <th>4</th>\n",
       "      <td>A</td>\n",
       "      <td>NaN</td>\n",
       "      <td>AB</td>\n",
       "      <td>NaN</td>\n",
       "      <td>BC</td>\n",
       "      <td>NaN</td>\n",
       "      <td>NaN</td>\n",
       "      <td>NaN</td>\n",
       "      <td>BC</td>\n",
       "      <td>NaN</td>\n",
       "      <td>...</td>\n",
       "      <td>NaN</td>\n",
       "      <td>NaN</td>\n",
       "      <td>NaN</td>\n",
       "      <td>NaN</td>\n",
       "      <td>NaN</td>\n",
       "      <td>NaN</td>\n",
       "      <td>NaN</td>\n",
       "      <td>NaN</td>\n",
       "      <td>NaN</td>\n",
       "      <td>NaN</td>\n",
       "    </tr>\n",
       "  </tbody>\n",
       "</table>\n",
       "<p>5 rows × 94 columns</p>\n",
       "</div>"
      ],
      "text/plain": [
       "  DIRECTED STUDY INTRODUCTION TO COMPUTER ENGINEERING  \\\n",
       "0              A                                    B   \n",
       "1            NaN                                  NaN   \n",
       "2            NaN                                  NaN   \n",
       "3            NaN                                  NaN   \n",
       "4              A                                  NaN   \n",
       "\n",
       "  INTRODUCTION TO DISCRETE MATHEMATICS MACHINE ORGANIZATION AND PROGRAMMING  \\\n",
       "0                                   BC                                  NaN   \n",
       "1                                    B                                  NaN   \n",
       "2                                  NaN                                  NaN   \n",
       "3                                  NaN                                  NaN   \n",
       "4                                   AB                                  NaN   \n",
       "\n",
       "  DIGITAL SYSTEM FUNDAMENTALS INTRODUCTION TO ARTIFICIAL INTELLIGENCE  \\\n",
       "0                         NaN                                     NaN   \n",
       "1                          BC                                     NaN   \n",
       "2                           A                                     NaN   \n",
       "3                           B                                     NaN   \n",
       "4                          BC                                     NaN   \n",
       "\n",
       "  PROBLEM SOLVING USING COMPUTERS INTRODUCTION TO OPERATING SYSTEMS  \\\n",
       "0                             NaN                               NaN   \n",
       "1                             NaN                               NaN   \n",
       "2                             NaN                               NaN   \n",
       "3                             NaN                               NaN   \n",
       "4                             NaN                               NaN   \n",
       "\n",
       "  INTRODUCTION TO ALGORITHMS  \\\n",
       "0                        NaN   \n",
       "1                        NaN   \n",
       "2                        NaN   \n",
       "3                        NaN   \n",
       "4                         BC   \n",
       "\n",
       "  DATABASE MANAGEMENT SYSTEMS: DESIGN AND IMPLEMENTATION  ...  \\\n",
       "0                                                  B      ...   \n",
       "1                                                NaN      ...   \n",
       "2                                                NaN      ...   \n",
       "3                                                NaN      ...   \n",
       "4                                                NaN      ...   \n",
       "\n",
       "  MEDICAL IMAGE ANALYSIS VIRTUAL REALITY COMPUTER ANIMATION  \\\n",
       "0                    NaN             NaN                NaN   \n",
       "1                    NaN             NaN                NaN   \n",
       "2                      B             NaN                NaN   \n",
       "3                    NaN             NaN                NaN   \n",
       "4                    NaN             NaN                NaN   \n",
       "\n",
       "  INTRODUCTION TO COMPUTATIONAL GEOMETRY  \\\n",
       "0                                    NaN   \n",
       "1                                    NaN   \n",
       "2                                    NaN   \n",
       "3                                    NaN   \n",
       "4                                    NaN   \n",
       "\n",
       "  FUNDAMENTALS OF HUMAN-COMPUTER INTERACTION  \\\n",
       "0                                        NaN   \n",
       "1                                        NaN   \n",
       "2                                        NaN   \n",
       "3                                        NaN   \n",
       "4                                        NaN   \n",
       "\n",
       "  COMPUTATIONAL METHODS FOR MEDICAL IMAGE ANALYSIS CONTEST-LEVEL PROGRAMMING  \\\n",
       "0                                              NaN                       NaN   \n",
       "1                                                A                       NaN   \n",
       "2                                              NaN                       NaN   \n",
       "3                                              NaN                       NaN   \n",
       "4                                              NaN                       NaN   \n",
       "\n",
       "  USER EXPERIENCE DESIGN 1 ADVANCED LINEAR PROGRAMMING SENIOR THESIS  \n",
       "0                      NaN                         NaN           NaN  \n",
       "1                      NaN                         NaN           NaN  \n",
       "2                      NaN                         NaN           NaN  \n",
       "3                      NaN                         NaN           NaN  \n",
       "4                      NaN                         NaN           NaN  \n",
       "\n",
       "[5 rows x 94 columns]"
      ]
     },
     "execution_count": 63,
     "metadata": {},
     "output_type": "execute_result"
    }
   ],
   "source": [
    "transcripts = pd.read_csv('transcripts.csv', index_col=0)\n",
    "transcripts.head()"
   ]
  },
  {
   "cell_type": "markdown",
   "metadata": {},
   "source": [
    "Some helpful dictionaries to help us in converting data representations:"
   ]
  },
  {
   "cell_type": "code",
   "execution_count": 64,
   "metadata": {},
   "outputs": [],
   "source": [
    "grade_to_label_dict = {'A': 1, 'AB': 2, 'B': 3, 'BC': 4, 'C': 5, 'D': 6, 'F': 7}\n",
    "label_to_grade_dict = {value: key for key, value in grade_to_label_dict.items()}"
   ]
  },
  {
   "cell_type": "code",
   "execution_count": 65,
   "metadata": {},
   "outputs": [],
   "source": [
    "course_to_index_dict = {column: i for i, column in enumerate(transcripts.columns)}\n",
    "index_to_course_dict = {i: column for i, column in enumerate(transcripts.columns)}"
   ]
  },
  {
   "cell_type": "markdown",
   "metadata": {},
   "source": [
    "### Approach 1"
   ]
  },
  {
   "cell_type": "markdown",
   "metadata": {},
   "source": [
    "Take everything but one course from the transcripts as the features, and put that course as the label:"
   ]
  },
  {
   "cell_type": "code",
   "execution_count": 5,
   "metadata": {},
   "outputs": [],
   "source": [
    "x = transcripts.drop(['PROGRAMMING I'], axis=1)\n",
    "y = transcripts['PROGRAMMING I']"
   ]
  },
  {
   "cell_type": "markdown",
   "metadata": {},
   "source": [
    "Let's check the number of columns for x:"
   ]
  },
  {
   "cell_type": "code",
   "execution_count": 6,
   "metadata": {},
   "outputs": [
    {
     "name": "stdout",
     "output_type": "stream",
     "text": [
      "<class 'pandas.core.frame.DataFrame'>\n",
      "Int64Index: 50 entries, 0 to 49\n",
      "Columns: 135 entries, INTRODUCTION TO COMPUTER NETWORKS to DIRECTED STUDY_A\n",
      "dtypes: float64(2), uint8(133)\n",
      "memory usage: 7.7 KB\n"
     ]
    }
   ],
   "source": [
    "pd.get_dummies(x).info()"
   ]
  },
  {
   "cell_type": "markdown",
   "metadata": {},
   "source": [
    "Let's say that rows 51 through 150 have to be used for testing. The number of columns are:"
   ]
  },
  {
   "cell_type": "code",
   "execution_count": 7,
   "metadata": {},
   "outputs": [
    {
     "name": "stdout",
     "output_type": "stream",
     "text": [
      "<class 'pandas.core.frame.DataFrame'>\n",
      "Int64Index: 0 entries\n",
      "Data columns (total 2 columns):\n",
      "INTRODUCTION TO COMPUTER NETWORKS    0 non-null float64\n",
      "DIGITAL SYSTEM FUNDAMENTALS          0 non-null float64\n",
      "dtypes: float64(2)\n",
      "memory usage: 0.0 bytes\n"
     ]
    }
   ],
   "source": [
    "pd.get_dummies(transcripts.loc[51:150].drop(['PROGRAMMING I'], axis=1)).info()"
   ]
  },
  {
   "cell_type": "markdown",
   "metadata": {},
   "source": [
    "Since the number of columns change every time we cahnge a course or change the rows that are used to train or test the data, we cannot use this approach."
   ]
  },
  {
   "cell_type": "markdown",
   "metadata": {},
   "source": [
    "### Approach 2"
   ]
  },
  {
   "cell_type": "markdown",
   "metadata": {},
   "source": [
    "We can preprocess the rows by dropping all courses that a student hasn't taken and converting the courses and grades to integer values:"
   ]
  },
  {
   "cell_type": "code",
   "execution_count": 8,
   "metadata": {},
   "outputs": [],
   "source": [
    "def preprocess_data(row):\n",
    "    row = row.dropna()\n",
    "    items = []\n",
    "    items.extend([course_to_index_dict[index] for index in row.index])\n",
    "    items.extend([grade_to_label_dict[value] for value in row.values])\n",
    "    return pd.Series(items)\n",
    "\n",
    "transcripts_preprocessed = transcripts.apply(preprocess_data, axis=1)"
   ]
  },
  {
   "cell_type": "markdown",
   "metadata": {},
   "source": [
    "Utility function to get the features for each course:"
   ]
  },
  {
   "cell_type": "code",
   "execution_count": 9,
   "metadata": {},
   "outputs": [],
   "source": [
    "def get_subject_processed(row, subject):\n",
    "    num_subjects = int(len(row) / 2)\n",
    "    if subject in row[0:num_subjects].values:\n",
    "        row = row.append(pd.Series(subject), ignore_index=True)\n",
    "        index = row[row == subject].index[0]\n",
    "        row = row.drop([index, index+num_subjects])\n",
    "        return row.reset_index(drop=True)\n",
    "    else:\n",
    "        return None\n",
    "\n",
    "def get_features_for_course(course, head=False):\n",
    "    if head:\n",
    "        df = transcripts_preprocessed.head().apply(get_subject_processed, args=(course,), axis=1) \\\n",
    "            .dropna().reset_index(drop=True)\n",
    "    else:\n",
    "        df = transcripts_preprocessed.apply(get_subject_processed, args=(course,), axis=1) \\\n",
    "            .dropna().reset_index(drop=True)\n",
    "    if type(df) == pd.Series:\n",
    "        return pd.DataFrame.from_dict(dict(df), orient='index')\n",
    "    return df"
   ]
  },
  {
   "cell_type": "code",
   "execution_count": 10,
   "metadata": {},
   "outputs": [
    {
     "data": {
      "text/html": [
       "<div>\n",
       "<style scoped>\n",
       "    .dataframe tbody tr th:only-of-type {\n",
       "        vertical-align: middle;\n",
       "    }\n",
       "\n",
       "    .dataframe tbody tr th {\n",
       "        vertical-align: top;\n",
       "    }\n",
       "\n",
       "    .dataframe thead th {\n",
       "        text-align: right;\n",
       "    }\n",
       "</style>\n",
       "<table border=\"1\" class=\"dataframe\">\n",
       "  <thead>\n",
       "    <tr style=\"text-align: right;\">\n",
       "      <th></th>\n",
       "      <th>0</th>\n",
       "      <th>1</th>\n",
       "      <th>2</th>\n",
       "      <th>3</th>\n",
       "      <th>4</th>\n",
       "      <th>5</th>\n",
       "      <th>6</th>\n",
       "      <th>7</th>\n",
       "      <th>8</th>\n",
       "      <th>9</th>\n",
       "      <th>10</th>\n",
       "      <th>11</th>\n",
       "      <th>12</th>\n",
       "      <th>13</th>\n",
       "      <th>14</th>\n",
       "    </tr>\n",
       "  </thead>\n",
       "  <tbody>\n",
       "    <tr>\n",
       "      <th>0</th>\n",
       "      <td>7</td>\n",
       "      <td>19</td>\n",
       "      <td>21</td>\n",
       "      <td>23</td>\n",
       "      <td>29</td>\n",
       "      <td>34</td>\n",
       "      <td>35</td>\n",
       "      <td>3</td>\n",
       "      <td>5</td>\n",
       "      <td>1</td>\n",
       "      <td>3</td>\n",
       "      <td>2</td>\n",
       "      <td>2</td>\n",
       "      <td>1</td>\n",
       "      <td>8</td>\n",
       "    </tr>\n",
       "    <tr>\n",
       "      <th>1</th>\n",
       "      <td>20</td>\n",
       "      <td>21</td>\n",
       "      <td>23</td>\n",
       "      <td>25</td>\n",
       "      <td>33</td>\n",
       "      <td>34</td>\n",
       "      <td>37</td>\n",
       "      <td>1</td>\n",
       "      <td>1</td>\n",
       "      <td>2</td>\n",
       "      <td>1</td>\n",
       "      <td>6</td>\n",
       "      <td>2</td>\n",
       "      <td>3</td>\n",
       "      <td>8</td>\n",
       "    </tr>\n",
       "  </tbody>\n",
       "</table>\n",
       "</div>"
      ],
      "text/plain": [
       "   0   1   2   3   4   5   6   7   8   9   10  11  12  13  14\n",
       "0   7  19  21  23  29  34  35   3   5   1   3   2   2   1   8\n",
       "1  20  21  23  25  33  34  37   1   1   2   1   6   2   3   8"
      ]
     },
     "execution_count": 10,
     "metadata": {},
     "output_type": "execute_result"
    }
   ],
   "source": [
    "get_features_for_course(8, head=True)"
   ]
  },
  {
   "cell_type": "markdown",
   "metadata": {},
   "source": [
    "Utility function to get the label for each course:"
   ]
  },
  {
   "cell_type": "code",
   "execution_count": 11,
   "metadata": {},
   "outputs": [],
   "source": [
    "def get_labels_processed(row, subject):\n",
    "    num_subjects = int(len(row) / 2)\n",
    "    if subject in row[0:num_subjects].values:\n",
    "        index = row[row == subject].index[0]\n",
    "        return row[index+num_subjects]\n",
    "    else:\n",
    "        return None\n",
    "\n",
    "def get_labels_for_course(course, head=False):\n",
    "    if head:\n",
    "            return transcripts_preprocessed.head().apply(get_labels_processed, args=(course,), axis=1).dropna().reset_index(drop=True)\n",
    "    return transcripts_preprocessed.apply(get_labels_processed, args=(course,), axis=1).dropna().reset_index(drop=True)"
   ]
  },
  {
   "cell_type": "code",
   "execution_count": 12,
   "metadata": {},
   "outputs": [
    {
     "data": {
      "text/plain": [
       "0    2.0\n",
       "1    1.0\n",
       "dtype: float64"
      ]
     },
     "execution_count": 12,
     "metadata": {},
     "output_type": "execute_result"
    }
   ],
   "source": [
    "get_labels_for_course(8, head=True)"
   ]
  },
  {
   "cell_type": "markdown",
   "metadata": {},
   "source": [
    "Utility function to train and test a model with approach 2:"
   ]
  },
  {
   "cell_type": "code",
   "execution_count": 13,
   "metadata": {
    "scrolled": true
   },
   "outputs": [],
   "source": [
    "def train_model(model):\n",
    "    x_tests = []\n",
    "    y_tests = []\n",
    "    for i in range(len(course_to_index_dict)):\n",
    "        x = get_features_for_course(i)\n",
    "        y = get_labels_for_course(i)\n",
    "        x_train, x_test, y_train, y_test = train_test_split(x, y)\n",
    "        if len(x) > 0 and len(y_train.unique()) > 1:\n",
    "            model.fit(x_train, y_train)\n",
    "            x_tests.append(x_test)\n",
    "            y_tests.append(y_test)\n",
    "    \n",
    "    x_tests = pd.concat(x_tests).reset_index(drop=True)\n",
    "    y_tests = pd.concat(y_tests).reset_index(drop=True)\n",
    "    accuracy = model.score(x_tests, y_tests)\n",
    "    \n",
    "    return (model, accuracy)"
   ]
  },
  {
   "cell_type": "markdown",
   "metadata": {},
   "source": [
    "#### Logistic Regression Model"
   ]
  },
  {
   "cell_type": "code",
   "execution_count": 14,
   "metadata": {},
   "outputs": [
    {
     "name": "stdout",
     "output_type": "stream",
     "text": [
      "0.44180607471863065\n"
     ]
    }
   ],
   "source": [
    "model = LogisticRegression(random_state=0, solver='sag', multi_class='multinomial', max_iter=10_000)\n",
    "model, accuracy = train_model(model)\n",
    "print(accuracy)"
   ]
  },
  {
   "cell_type": "markdown",
   "metadata": {},
   "source": [
    "#### Naive Bayes Model"
   ]
  },
  {
   "cell_type": "code",
   "execution_count": 15,
   "metadata": {},
   "outputs": [
    {
     "name": "stdout",
     "output_type": "stream",
     "text": [
      "0.5278101190840943\n"
     ]
    }
   ],
   "source": [
    "model = GaussianNB()\n",
    "model, accuracy = train_model(model)\n",
    "print(accuracy)"
   ]
  },
  {
   "cell_type": "markdown",
   "metadata": {},
   "source": [
    "### Approach 3"
   ]
  },
  {
   "cell_type": "markdown",
   "metadata": {},
   "source": [
    "Here we just replace all missing values with zeros and replace all grades with their integer representations:"
   ]
  },
  {
   "cell_type": "code",
   "execution_count": 66,
   "metadata": {},
   "outputs": [],
   "source": [
    "transcripts_preprocessed = transcripts.fillna(0).replace(grade_to_label_dict).astype(int)"
   ]
  },
  {
   "cell_type": "code",
   "execution_count": 67,
   "metadata": {},
   "outputs": [
    {
     "data": {
      "text/html": [
       "<div>\n",
       "<style scoped>\n",
       "    .dataframe tbody tr th:only-of-type {\n",
       "        vertical-align: middle;\n",
       "    }\n",
       "\n",
       "    .dataframe tbody tr th {\n",
       "        vertical-align: top;\n",
       "    }\n",
       "\n",
       "    .dataframe thead th {\n",
       "        text-align: right;\n",
       "    }\n",
       "</style>\n",
       "<table border=\"1\" class=\"dataframe\">\n",
       "  <thead>\n",
       "    <tr style=\"text-align: right;\">\n",
       "      <th></th>\n",
       "      <th>DIRECTED STUDY</th>\n",
       "      <th>INTRODUCTION TO COMPUTER ENGINEERING</th>\n",
       "      <th>INTRODUCTION TO DISCRETE MATHEMATICS</th>\n",
       "      <th>MACHINE ORGANIZATION AND PROGRAMMING</th>\n",
       "      <th>DIGITAL SYSTEM FUNDAMENTALS</th>\n",
       "      <th>INTRODUCTION TO ARTIFICIAL INTELLIGENCE</th>\n",
       "      <th>PROBLEM SOLVING USING COMPUTERS</th>\n",
       "      <th>INTRODUCTION TO OPERATING SYSTEMS</th>\n",
       "      <th>INTRODUCTION TO ALGORITHMS</th>\n",
       "      <th>DATABASE MANAGEMENT SYSTEMS: DESIGN AND IMPLEMENTATION</th>\n",
       "      <th>...</th>\n",
       "      <th>MEDICAL IMAGE ANALYSIS</th>\n",
       "      <th>VIRTUAL REALITY</th>\n",
       "      <th>COMPUTER ANIMATION</th>\n",
       "      <th>INTRODUCTION TO COMPUTATIONAL GEOMETRY</th>\n",
       "      <th>FUNDAMENTALS OF HUMAN-COMPUTER INTERACTION</th>\n",
       "      <th>COMPUTATIONAL METHODS FOR MEDICAL IMAGE ANALYSIS</th>\n",
       "      <th>CONTEST-LEVEL PROGRAMMING</th>\n",
       "      <th>USER EXPERIENCE DESIGN 1</th>\n",
       "      <th>ADVANCED LINEAR PROGRAMMING</th>\n",
       "      <th>SENIOR THESIS</th>\n",
       "    </tr>\n",
       "  </thead>\n",
       "  <tbody>\n",
       "    <tr>\n",
       "      <th>0</th>\n",
       "      <td>1</td>\n",
       "      <td>3</td>\n",
       "      <td>4</td>\n",
       "      <td>0</td>\n",
       "      <td>0</td>\n",
       "      <td>0</td>\n",
       "      <td>0</td>\n",
       "      <td>0</td>\n",
       "      <td>0</td>\n",
       "      <td>3</td>\n",
       "      <td>...</td>\n",
       "      <td>0</td>\n",
       "      <td>0</td>\n",
       "      <td>0</td>\n",
       "      <td>0</td>\n",
       "      <td>0</td>\n",
       "      <td>0</td>\n",
       "      <td>0</td>\n",
       "      <td>0</td>\n",
       "      <td>0</td>\n",
       "      <td>0</td>\n",
       "    </tr>\n",
       "    <tr>\n",
       "      <th>1</th>\n",
       "      <td>0</td>\n",
       "      <td>0</td>\n",
       "      <td>3</td>\n",
       "      <td>0</td>\n",
       "      <td>4</td>\n",
       "      <td>0</td>\n",
       "      <td>0</td>\n",
       "      <td>0</td>\n",
       "      <td>0</td>\n",
       "      <td>0</td>\n",
       "      <td>...</td>\n",
       "      <td>0</td>\n",
       "      <td>0</td>\n",
       "      <td>0</td>\n",
       "      <td>0</td>\n",
       "      <td>0</td>\n",
       "      <td>1</td>\n",
       "      <td>0</td>\n",
       "      <td>0</td>\n",
       "      <td>0</td>\n",
       "      <td>0</td>\n",
       "    </tr>\n",
       "    <tr>\n",
       "      <th>2</th>\n",
       "      <td>0</td>\n",
       "      <td>0</td>\n",
       "      <td>0</td>\n",
       "      <td>0</td>\n",
       "      <td>1</td>\n",
       "      <td>0</td>\n",
       "      <td>0</td>\n",
       "      <td>0</td>\n",
       "      <td>0</td>\n",
       "      <td>0</td>\n",
       "      <td>...</td>\n",
       "      <td>3</td>\n",
       "      <td>0</td>\n",
       "      <td>0</td>\n",
       "      <td>0</td>\n",
       "      <td>0</td>\n",
       "      <td>0</td>\n",
       "      <td>0</td>\n",
       "      <td>0</td>\n",
       "      <td>0</td>\n",
       "      <td>0</td>\n",
       "    </tr>\n",
       "    <tr>\n",
       "      <th>3</th>\n",
       "      <td>0</td>\n",
       "      <td>0</td>\n",
       "      <td>0</td>\n",
       "      <td>0</td>\n",
       "      <td>3</td>\n",
       "      <td>0</td>\n",
       "      <td>0</td>\n",
       "      <td>0</td>\n",
       "      <td>0</td>\n",
       "      <td>0</td>\n",
       "      <td>...</td>\n",
       "      <td>0</td>\n",
       "      <td>0</td>\n",
       "      <td>0</td>\n",
       "      <td>0</td>\n",
       "      <td>0</td>\n",
       "      <td>0</td>\n",
       "      <td>0</td>\n",
       "      <td>0</td>\n",
       "      <td>0</td>\n",
       "      <td>0</td>\n",
       "    </tr>\n",
       "    <tr>\n",
       "      <th>4</th>\n",
       "      <td>1</td>\n",
       "      <td>0</td>\n",
       "      <td>2</td>\n",
       "      <td>0</td>\n",
       "      <td>4</td>\n",
       "      <td>0</td>\n",
       "      <td>0</td>\n",
       "      <td>0</td>\n",
       "      <td>4</td>\n",
       "      <td>0</td>\n",
       "      <td>...</td>\n",
       "      <td>0</td>\n",
       "      <td>0</td>\n",
       "      <td>0</td>\n",
       "      <td>0</td>\n",
       "      <td>0</td>\n",
       "      <td>0</td>\n",
       "      <td>0</td>\n",
       "      <td>0</td>\n",
       "      <td>0</td>\n",
       "      <td>0</td>\n",
       "    </tr>\n",
       "  </tbody>\n",
       "</table>\n",
       "<p>5 rows × 94 columns</p>\n",
       "</div>"
      ],
      "text/plain": [
       "   DIRECTED STUDY  INTRODUCTION TO COMPUTER ENGINEERING  \\\n",
       "0               1                                     3   \n",
       "1               0                                     0   \n",
       "2               0                                     0   \n",
       "3               0                                     0   \n",
       "4               1                                     0   \n",
       "\n",
       "   INTRODUCTION TO DISCRETE MATHEMATICS  MACHINE ORGANIZATION AND PROGRAMMING  \\\n",
       "0                                     4                                     0   \n",
       "1                                     3                                     0   \n",
       "2                                     0                                     0   \n",
       "3                                     0                                     0   \n",
       "4                                     2                                     0   \n",
       "\n",
       "   DIGITAL SYSTEM FUNDAMENTALS  INTRODUCTION TO ARTIFICIAL INTELLIGENCE  \\\n",
       "0                            0                                        0   \n",
       "1                            4                                        0   \n",
       "2                            1                                        0   \n",
       "3                            3                                        0   \n",
       "4                            4                                        0   \n",
       "\n",
       "   PROBLEM SOLVING USING COMPUTERS  INTRODUCTION TO OPERATING SYSTEMS  \\\n",
       "0                                0                                  0   \n",
       "1                                0                                  0   \n",
       "2                                0                                  0   \n",
       "3                                0                                  0   \n",
       "4                                0                                  0   \n",
       "\n",
       "   INTRODUCTION TO ALGORITHMS  \\\n",
       "0                           0   \n",
       "1                           0   \n",
       "2                           0   \n",
       "3                           0   \n",
       "4                           4   \n",
       "\n",
       "   DATABASE MANAGEMENT SYSTEMS: DESIGN AND IMPLEMENTATION  ...  \\\n",
       "0                                                  3       ...   \n",
       "1                                                  0       ...   \n",
       "2                                                  0       ...   \n",
       "3                                                  0       ...   \n",
       "4                                                  0       ...   \n",
       "\n",
       "   MEDICAL IMAGE ANALYSIS  VIRTUAL REALITY  COMPUTER ANIMATION  \\\n",
       "0                       0                0                   0   \n",
       "1                       0                0                   0   \n",
       "2                       3                0                   0   \n",
       "3                       0                0                   0   \n",
       "4                       0                0                   0   \n",
       "\n",
       "   INTRODUCTION TO COMPUTATIONAL GEOMETRY  \\\n",
       "0                                       0   \n",
       "1                                       0   \n",
       "2                                       0   \n",
       "3                                       0   \n",
       "4                                       0   \n",
       "\n",
       "   FUNDAMENTALS OF HUMAN-COMPUTER INTERACTION  \\\n",
       "0                                           0   \n",
       "1                                           0   \n",
       "2                                           0   \n",
       "3                                           0   \n",
       "4                                           0   \n",
       "\n",
       "   COMPUTATIONAL METHODS FOR MEDICAL IMAGE ANALYSIS  \\\n",
       "0                                                 0   \n",
       "1                                                 1   \n",
       "2                                                 0   \n",
       "3                                                 0   \n",
       "4                                                 0   \n",
       "\n",
       "   CONTEST-LEVEL PROGRAMMING  USER EXPERIENCE DESIGN 1  \\\n",
       "0                          0                         0   \n",
       "1                          0                         0   \n",
       "2                          0                         0   \n",
       "3                          0                         0   \n",
       "4                          0                         0   \n",
       "\n",
       "   ADVANCED LINEAR PROGRAMMING  SENIOR THESIS  \n",
       "0                            0              0  \n",
       "1                            0              0  \n",
       "2                            0              0  \n",
       "3                            0              0  \n",
       "4                            0              0  \n",
       "\n",
       "[5 rows x 94 columns]"
      ]
     },
     "execution_count": 67,
     "metadata": {},
     "output_type": "execute_result"
    }
   ],
   "source": [
    "transcripts_preprocessed.head()"
   ]
  },
  {
   "cell_type": "markdown",
   "metadata": {},
   "source": [
    "Then we create copies of rows, one copy for each grade that exists in the row, and iteratively replace a grade with -1 and store the row as a feature and the grade as a label:"
   ]
  },
  {
   "cell_type": "code",
   "execution_count": 68,
   "metadata": {},
   "outputs": [],
   "source": [
    "x = []\n",
    "y = []\n",
    "for index, grades in transcripts_preprocessed.iterrows():\n",
    "    grade_indices = grades[grades != 0].index\n",
    "    for course in grade_indices:\n",
    "        new_grades = grades.copy()\n",
    "        new_grades[course] = -1\n",
    "        x.append(new_grades)\n",
    "        y.append(grades[course])"
   ]
  },
  {
   "cell_type": "markdown",
   "metadata": {},
   "source": [
    "Creating training and testing sets for approach 3:"
   ]
  },
  {
   "cell_type": "code",
   "execution_count": 69,
   "metadata": {},
   "outputs": [],
   "source": [
    "x_train, x_test, y_train, y_test = train_test_split(x, y)"
   ]
  },
  {
   "cell_type": "markdown",
   "metadata": {},
   "source": [
    "#### Logistic Regression Model"
   ]
  },
  {
   "cell_type": "code",
   "execution_count": 70,
   "metadata": {},
   "outputs": [
    {
     "data": {
      "text/plain": [
       "0.42134067063768027"
      ]
     },
     "execution_count": 70,
     "metadata": {},
     "output_type": "execute_result"
    }
   ],
   "source": [
    "model = LogisticRegression(solver='sag', multi_class='multinomial', max_iter=10_000)\n",
    "model.fit(x_train, y_train)\n",
    "model.score(x_test, y_test)"
   ]
  },
  {
   "cell_type": "code",
   "execution_count": 71,
   "metadata": {},
   "outputs": [],
   "source": [
    "def calculate_accuracy(model, x_test, y_test):\n",
    "    accuracy = 0\n",
    "    for x, y in zip(x_test, y_test):\n",
    "        y_pred = model.predict(x.to_numpy().reshape(1, -1))\n",
    "        distance = abs(y - y_pred)\n",
    "        accuracy += 1/(math.pow(2, distance))\n",
    "    return accuracy/len(x_test)"
   ]
  },
  {
   "cell_type": "code",
   "execution_count": 72,
   "metadata": {},
   "outputs": [
    {
     "data": {
      "text/plain": [
       "0.5954211768915227"
      ]
     },
     "execution_count": 72,
     "metadata": {},
     "output_type": "execute_result"
    }
   ],
   "source": [
    "calculate_accuracy(model, x_test, y_test)"
   ]
  },
  {
   "cell_type": "markdown",
   "metadata": {},
   "source": [
    "#### Naive Bayes Model"
   ]
  },
  {
   "cell_type": "code",
   "execution_count": 73,
   "metadata": {},
   "outputs": [
    {
     "data": {
      "text/plain": [
       "0.1988731996895756"
      ]
     },
     "execution_count": 73,
     "metadata": {},
     "output_type": "execute_result"
    }
   ],
   "source": [
    "model = GaussianNB()\n",
    "model.fit(x_train, y_train)\n",
    "model.score(x_test, y_test)"
   ]
  },
  {
   "cell_type": "code",
   "execution_count": 74,
   "metadata": {},
   "outputs": [
    {
     "data": {
      "text/plain": [
       "0.40382591161975023"
      ]
     },
     "execution_count": 74,
     "metadata": {},
     "output_type": "execute_result"
    }
   ],
   "source": [
    "calculate_accuracy(model, x_test, y_test)"
   ]
  }
 ],
 "metadata": {
  "kernelspec": {
   "display_name": "Python 3",
   "language": "python",
   "name": "python3"
  },
  "language_info": {
   "codemirror_mode": {
    "name": "ipython",
    "version": 3
   },
   "file_extension": ".py",
   "mimetype": "text/x-python",
   "name": "python",
   "nbconvert_exporter": "python",
   "pygments_lexer": "ipython3",
   "version": "3.6.8"
  }
 },
 "nbformat": 4,
 "nbformat_minor": 2
}
